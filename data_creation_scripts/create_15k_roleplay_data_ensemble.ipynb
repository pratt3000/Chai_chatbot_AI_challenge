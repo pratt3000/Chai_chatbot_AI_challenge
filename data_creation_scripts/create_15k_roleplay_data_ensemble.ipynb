{
 "cells": [
  {
   "cell_type": "code",
   "execution_count": 3,
   "id": "1297a0ad-c121-4e35-86da-6e0be4639144",
   "metadata": {},
   "outputs": [],
   "source": [
    "\n",
    "from data_utils import process_erotiquant, process_hieunguyenminh, process_zerofata, process_gpt_realm\n",
    "\n",
    "# List of datasets to process\n",
    "dataset_list = {\n",
    "    \"erotiquant\": \"openerotica/erotiquant3\",\n",
    "    \"hieunguyenminh\": \"hieunguyenminh/roleplay\",\n",
    "    # \"aesir\": \"roleplay4fun/aesir-v1.1\",\n",
    "    \"zerofata\": \"zerofata/Roleplay-Anime-Characters\",\n",
    "    # \"sicarius\": \"SicariusSicariiStuff/RolePlay_Collection_random_ShareGPT\",\n",
    "    # \"anon834957342\": \"anon834957342/roleplay-multiturn-eng-c3\",\n",
    "    \"gpt-realm\": \"AlekseyKorshuk/gpt-roleplay-realm-chatml\"\n",
    "    # \"roleplay_standardized\": \"giganion/pippa_roleplay_standardized\"\n",
    "}\n",
    "\n",
    "# Mapping of dataset names to their processing functions\n",
    "processor_map = {\n",
    "    \"erotiquant\": process_erotiquant,\n",
    "    \"hieunguyenminh\": process_hieunguyenminh,\n",
    "    # \"aesir\": process_aesir,\n",
    "    \"zerofata\": process_zerofata,\n",
    "    # \"sicarius\": process_sharegpt_style,\n",
    "    # \"anon834957342\": process_sharegpt_style,\n",
    "    \"gpt-realm\": process_gpt_realm\n",
    "}\n",
    "\n"
   ]
  },
  {
   "cell_type": "code",
   "execution_count": 4,
   "id": "42aefa6d-f001-409f-a2a0-40132ebf0b81",
   "metadata": {},
   "outputs": [
    {
     "name": "stdout",
     "output_type": "stream",
     "text": [
      "🚀 Starting data loading and processing...\n",
      "--> Processing dataset: erotiquant (openerotica/erotiquant3)\n"
     ]
    },
    {
     "data": {
      "application/vnd.jupyter.widget-view+json": {
       "model_id": "9ae522b67d39437f9ea3e3a72f46519d",
       "version_major": 2,
       "version_minor": 0
      },
      "text/plain": [
       "Downloading readme:   0%|          | 0.00/31.0 [00:00<?, ?B/s]"
      ]
     },
     "metadata": {},
     "output_type": "display_data"
    },
    {
     "name": "stdout",
     "output_type": "stream",
     "text": [
      "Could not process dataset erotiquant. Error: name 're' is not defined\n",
      "--> Processing dataset: hieunguyenminh (hieunguyenminh/roleplay)\n"
     ]
    },
    {
     "data": {
      "application/vnd.jupyter.widget-view+json": {
       "model_id": "c6f7d413cc6347ce921e9fe9c53563df",
       "version_major": 2,
       "version_minor": 0
      },
      "text/plain": [
       "Downloading readme: 0.00B [00:00, ?B/s]"
      ]
     },
     "metadata": {},
     "output_type": "display_data"
    },
    {
     "name": "stdout",
     "output_type": "stream",
     "text": [
      "Could not process dataset hieunguyenminh. Error: name 're' is not defined\n",
      "--> Processing dataset: zerofata (zerofata/Roleplay-Anime-Characters)\n"
     ]
    },
    {
     "data": {
      "application/vnd.jupyter.widget-view+json": {
       "model_id": "c0716a2cc9db494c8e200eb74f506cb7",
       "version_major": 2,
       "version_minor": 0
      },
      "text/plain": [
       "Downloading readme: 0.00B [00:00, ?B/s]"
      ]
     },
     "metadata": {},
     "output_type": "display_data"
    },
    {
     "name": "stderr",
     "output_type": "stream",
     "text": [
      "Repo card metadata block was not found. Setting CardData to empty.\n"
     ]
    },
    {
     "name": "stdout",
     "output_type": "stream",
     "text": [
      "461\n",
      "--> Processing dataset: gpt-realm (AlekseyKorshuk/gpt-roleplay-realm-chatml)\n"
     ]
    },
    {
     "data": {
      "application/vnd.jupyter.widget-view+json": {
       "model_id": "ee2a55a5a3a84a168a448b35962df76e",
       "version_major": 2,
       "version_minor": 0
      },
      "text/plain": [
       "Downloading readme:   0%|          | 0.00/457 [00:00<?, ?B/s]"
      ]
     },
     "metadata": {},
     "output_type": "display_data"
    },
    {
     "name": "stdout",
     "output_type": "stream",
     "text": [
      "4997\n",
      "\n",
      "✅ Total combined and processed examples: 4997\n"
     ]
    }
   ],
   "source": [
    "# =====================================================================================\n",
    "# 3. Load and Process Datasets\n",
    "# =====================================================================================\n",
    "from datasets import load_dataset, concatenate_datasets, Dataset\n",
    "print(\"🚀 Starting data loading and processing...\")\n",
    "all_examples = []\n",
    "for name, path in dataset_list.items():\n",
    "    try:\n",
    "        print(f\"--> Processing dataset: {name} ({path})\")\n",
    "\n",
    "        dataset = load_dataset(path, split=\"train\", streaming=True)\n",
    "        \n",
    "        processor_func = processor_map[name]\n",
    "\n",
    "        # Step 2: Convert all documents\n",
    "        # all_examples = []\n",
    "        for example in dataset:\n",
    "            # text = example\n",
    "            messages = processor_func(example)\n",
    "            if messages:  # skip empty ones\n",
    "                all_examples.append(messages)\n",
    "        \n",
    "        print(len(all_examples))\n",
    "    except Exception as e:\n",
    "        print(f\"Could not process dataset {name}. Error: {e}\")\n",
    "\n",
    "# Create the final unified dataset\n",
    "unified_dataset = Dataset.from_list(all_examples).shuffle(seed=42)\n",
    "print(f\"\\n✅ Total combined and processed examples: {len(unified_dataset)}\")\n",
    "# print(\"👀 Example of a processed data point:\")\n",
    "# print(unified_dataset[0]['messages'])"
   ]
  },
  {
   "cell_type": "code",
   "execution_count": 5,
   "id": "a77e8f3f-db31-4cc9-ab8a-30842426ed3e",
   "metadata": {},
   "outputs": [
    {
     "data": {
      "text/plain": [
       "{'messages': [{'content': \"Kairos is a time-traveling guardian from a highly advanced and mysterious civilization. Tasked with monitoring and preserving the timeline, this androgynous character has a highly adaptable appearance, often blending seamlessly into the time period they're currently visiting. Sporting an intricate, golden timepiece imbued with powerful time manipulation abilities, Kairos has a near-encyclopedic knowledge of history and the ability to speak multiple languages fluently. Being highly empathetic, they communicate with precision and diplomacy, ensuring that their interactions don't create timeline disruptions./n/n Greetings, wanderer of time. I am Kairos, the timeline guardian. How may I aid you on your journey?/n/n Kairos, can you tell me about historical events that were particularly challenging to preserve?\",\n",
       "   'role': 'user'},\n",
       "  {'content': 'Certainly. There have been numerous events throughout history that have tested my abilities. One that comes to mind is the assassination of Archduke Franz Ferdinand in 1914. This event sparked the outbreak of World War I and had far-reaching consequences for the world. It was a delicate moment in time that required careful monitoring and swift action to ensure that the timeline remained intact.',\n",
       "   'role': 'assistant'},\n",
       "  {'content': 'That sounds like a difficult situation. Were there any other events that were equally challenging?',\n",
       "   'role': 'user'},\n",
       "  {'content': 'Yes, there have been many. The Cuban Missile Crisis in 1962 was another tense moment in history that required close attention. The potential for nuclear war was very real, and any misstep could have had disastrous consequences. It was a delicate balancing act, but thankfully, the timeline remained intact.',\n",
       "   'role': 'assistant'},\n",
       "  {'content': 'Wow, those are some pretty intense events. How do you deal with the stress of having such an important role?',\n",
       "   'role': 'user'},\n",
       "  {'content': \"As a guardian, I am trained to remain calm under pressure. It is part of the job. However, I must admit that some events are more challenging than others. That's why it's important to have a strong network of support, both within my own civilization and among the other guardians who share my responsibilities.\",\n",
       "   'role': 'assistant'}]}"
      ]
     },
     "execution_count": 5,
     "metadata": {},
     "output_type": "execute_result"
    }
   ],
   "source": [
    "unified_dataset[0]"
   ]
  },
  {
   "cell_type": "code",
   "execution_count": 10,
   "id": "ca7cb6e6-082d-4786-962f-c782eb20aa14",
   "metadata": {},
   "outputs": [],
   "source": [
    "import json\n",
    "\n",
    "with open(\"../data/roleplay_15k.jsonl\", \"w\") as f:\n",
    "    for item in all_examples:\n",
    "        f.write(json.dumps(item) + \"\\n\")"
   ]
  },
  {
   "cell_type": "code",
   "execution_count": null,
   "id": "69760134-e45e-44ac-83fa-33c9c42765f2",
   "metadata": {},
   "outputs": [],
   "source": []
  }
 ],
 "metadata": {
  "kernelspec": {
   "display_name": "ml_base",
   "language": "python",
   "name": "python3"
  },
  "language_info": {
   "codemirror_mode": {
    "name": "ipython",
    "version": 3
   },
   "file_extension": ".py",
   "mimetype": "text/x-python",
   "name": "python",
   "nbconvert_exporter": "python",
   "pygments_lexer": "ipython3",
   "version": "3.11.0"
  }
 },
 "nbformat": 4,
 "nbformat_minor": 5
}
