{
 "cells": [
  {
   "cell_type": "code",
   "execution_count": 2,
   "metadata": {},
   "outputs": [
    {
     "name": "stdout",
     "output_type": "stream",
     "text": [
      "{'_id': '_bot_5c9283de-131d-4600-9818-11456f7458ca_mk4NsyDQzWSsWjxPYkdBOegmJit2_1689211870273_1689211909', 'conversation': [{'name': 'Barbie Roberts (Super Kind)', 'text': 'PACE!'}, {'name': 'Anonymous user', 'text': 'corn on the cob'}, {'name': 'Barbie Roberts (Super Kind)', 'text': '*laughs* what did you just say?'}], 'languages': ['en'], 'thumbs_up': True, 'feedback': 'corn', 'model_name': 'chaiml-ak-edit-v0_1689207647'}\n"
     ]
    }
   ],
   "source": [
    "from datasets import load_dataset\n",
    "\n",
    "# Load the dataset in streaming mode\n",
    "ds = load_dataset(\"tiendung/chai\", split=\"train\", streaming=True)\n",
    "\n",
    "# Filter to only examples with thumbs_up == True\n",
    "filtered_ds = ds.filter(lambda x: x.get(\"thumbs_up\") is True)\n",
    "\n",
    "# Preview an example\n",
    "for example in filtered_ds.take(1):\n",
    "    print(example)"
   ]
  },
  {
   "cell_type": "code",
   "execution_count": null,
   "metadata": {},
   "outputs": [],
   "source": [
    "from data_utils import reformat_chai_old_format\n",
    "\n",
    "# # Preview a few examples\n",
    "# for example in filtered_ds.take(3):\n",
    "#     formatted = convert_chai_old_format(example)\n",
    "#     print(formatted)\n",
    "#     print(\"=\" * 60)\n",
    "\n",
    "all_examples = []\n",
    "for example in filtered_ds:\n",
    "    # text = example\n",
    "    messages = reformat_chai_old_format(example)\n",
    "    if messages and messages['messages'] != []:  # skip empty ones\n",
    "        all_examples.append(messages)"
   ]
  },
  {
   "cell_type": "code",
   "execution_count": 7,
   "metadata": {},
   "outputs": [],
   "source": [
    "import json\n",
    "\n",
    "with open(\"../data/chai_conversations_filtered_39k_old_format.jsonl\", \"w\") as f:\n",
    "    for item in all_examples:\n",
    "        f.write(json.dumps(item) + \"\\n\")"
   ]
  },
  {
   "cell_type": "code",
   "execution_count": null,
   "metadata": {},
   "outputs": [],
   "source": []
  }
 ],
 "metadata": {
  "kernelspec": {
   "display_name": "ml_base",
   "language": "python",
   "name": "python3"
  },
  "language_info": {
   "codemirror_mode": {
    "name": "ipython",
    "version": 3
   },
   "file_extension": ".py",
   "mimetype": "text/x-python",
   "name": "python",
   "nbconvert_exporter": "python",
   "pygments_lexer": "ipython3",
   "version": "3.11.0"
  }
 },
 "nbformat": 4,
 "nbformat_minor": 2
}
