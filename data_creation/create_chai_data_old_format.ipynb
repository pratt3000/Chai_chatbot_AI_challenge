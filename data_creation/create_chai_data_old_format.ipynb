{
 "cells": [
  {
   "cell_type": "code",
   "execution_count": 2,
   "metadata": {},
   "outputs": [
    {
     "name": "stdout",
     "output_type": "stream",
     "text": [
      "{'_id': '_bot_5c9283de-131d-4600-9818-11456f7458ca_mk4NsyDQzWSsWjxPYkdBOegmJit2_1689211870273_1689211909', 'conversation': [{'name': 'Barbie Roberts (Super Kind)', 'text': 'PACE!'}, {'name': 'Anonymous user', 'text': 'corn on the cob'}, {'name': 'Barbie Roberts (Super Kind)', 'text': '*laughs* what did you just say?'}], 'languages': ['en'], 'thumbs_up': True, 'feedback': 'corn', 'model_name': 'chaiml-ak-edit-v0_1689207647'}\n"
     ]
    }
   ],
   "source": [
    "from datasets import load_dataset\n",
    "\n",
    "# Load the dataset in streaming mode\n",
    "ds = load_dataset(\"tiendung/chai\", split=\"train\", streaming=True)\n",
    "\n",
    "# Filter to only examples with thumbs_up == True\n",
    "filtered_ds = ds.filter(lambda x: x.get(\"thumbs_up\") is True)\n",
    "\n",
    "# Preview an example\n",
    "for example in filtered_ds.take(1):\n",
    "    print(example)"
   ]
  },
  {
   "cell_type": "code",
   "execution_count": 5,
   "metadata": {},
   "outputs": [],
   "source": [
    "from datasets import load_dataset\n",
    "\n",
    "# Load dataset in streaming mode and filter\n",
    "ds = load_dataset(\"tiendung/chai\", split=\"train\", streaming=True)\n",
    "filtered_ds = ds.filter(lambda x: x.get(\"thumbs_up\") is True)\n",
    "\n",
    "def convert_chai_old_format(example):\n",
    "    convo = example[\"conversation\"]\n",
    "    if not convo or len(convo) < 3:\n",
    "        return []\n",
    "\n",
    "    bot_name = convo[0][\"name\"]\n",
    "    bot_intro = convo[0][\"text\"]\n",
    "\n",
    "    messages = []\n",
    "\n",
    "    # First user message includes bot intro\n",
    "    if convo[1][\"name\"] != bot_name:\n",
    "        user_first = convo[1][\"text\"]\n",
    "        messages.append({\n",
    "            \"role\": \"user\",\n",
    "            \"content\": f\"{bot_intro} \\n\\n {user_first}\"\n",
    "        })\n",
    "\n",
    "    # First assistant message\n",
    "    if len(convo) > 2 and convo[2][\"name\"] == bot_name:\n",
    "        messages.append({\n",
    "            \"role\": \"assistant\",\n",
    "            \"content\": f\"{convo[2]['text']}\"\n",
    "        })\n",
    "\n",
    "    # Rest of the conversation\n",
    "    for i in range(3, len(convo), 2):\n",
    "        # User message\n",
    "        if i < len(convo) and convo[i][\"name\"] != bot_name:\n",
    "            messages.append({\n",
    "                \"role\": \"user\",\n",
    "                \"content\": f\"{convo[i]['text']}\"\n",
    "            })\n",
    "\n",
    "        # Assistant message\n",
    "        if i + 1 < len(convo) and convo[i + 1][\"name\"] == bot_name:\n",
    "            messages.append({\n",
    "                \"role\": \"assistant\",\n",
    "                \"content\": f\"{convo[i + 1]['text']}\"\n",
    "            })\n",
    "\n",
    "    return {\"messages\": messages}\n",
    "\n",
    "# # Preview a few examples\n",
    "# for example in filtered_ds.take(3):\n",
    "#     formatted = convert_chai_old_format(example)\n",
    "#     print(formatted)\n",
    "#     print(\"=\" * 60)\n",
    "\n",
    "all_examples = []\n",
    "for example in filtered_ds:\n",
    "    # text = example\n",
    "    messages = convert_chai_old_format(example)\n",
    "    if messages and messages['messages'] != []:  # skip empty ones\n",
    "        all_examples.append(messages)"
   ]
  },
  {
   "cell_type": "code",
   "execution_count": 6,
   "metadata": {},
   "outputs": [],
   "source": [
    "import json\n",
    "\n",
    "with open(\"../data/combined_data_old_format.jsonl\", \"w\") as f:\n",
    "    for item in all_examples:\n",
    "        f.write(json.dumps(item) + \"\\n\")"
   ]
  },
  {
   "cell_type": "code",
   "execution_count": null,
   "metadata": {},
   "outputs": [],
   "source": []
  }
 ],
 "metadata": {
  "kernelspec": {
   "display_name": "ml_base",
   "language": "python",
   "name": "python3"
  },
  "language_info": {
   "codemirror_mode": {
    "name": "ipython",
    "version": 3
   },
   "file_extension": ".py",
   "mimetype": "text/x-python",
   "name": "python",
   "nbconvert_exporter": "python",
   "pygments_lexer": "ipython3",
   "version": "3.11.0"
  }
 },
 "nbformat": 4,
 "nbformat_minor": 2
}
