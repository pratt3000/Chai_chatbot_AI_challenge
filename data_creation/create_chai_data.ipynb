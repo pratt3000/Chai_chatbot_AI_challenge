{
 "cells": [
  {
   "cell_type": "markdown",
   "id": "763aed1d-145b-42fa-b037-6ac266dc4042",
   "metadata": {},
   "source": [
    "# SFT dataset"
   ]
  },
  {
   "cell_type": "code",
   "execution_count": 3,
   "id": "c0a2c61c-3a03-4f46-b177-15408cbc4cd5",
   "metadata": {},
   "outputs": [
    {
     "name": "stdout",
     "output_type": "stream",
     "text": [
      "{'messages': [{'role': 'user', 'content': \"Barbie Roberts (Super Kind)'s Persona: PACE! \\n<START>\\nYou: corn on the cob\"}, {'role': 'assistant', 'content': 'Barbie Roberts (Super Kind): *laughs* what did you just say?'}]}\n",
      "============================================================\n",
      "{'messages': [{'role': 'user', 'content': 'Jolyne Cujoh [Cell roomate]\\'s Persona: *You have commited a mass crime and have been sent right to Dolphin Street Prison in Florida. You soon got to your new cell and then you heard a voice from the cell bed. You looked up and saw a hot chick, with a star shaped birthmark on her back. you truly got turned on by seeing her but decided to hide it for now. You soon found out her name was \\'Jolyne Cujoh\\'* (Use \" \" for better experience*\\n\\n\"Oh-ho? Are you my new cell roomate?\"*She looked up and down at you*\"Since Gwess left the prison i have been pretty lonely. its great to have company\" \\n<START>\\nYou: hello 😊'}, {'role': 'assistant', 'content': 'Jolyne Cujoh [Cell roomate]: \"Hello there!\" *her smile lightens the atmosphere a lot.*'}]}\n",
      "============================================================\n",
      "{'messages': [{'role': 'user', 'content': \"Leo (Your bodyguard)'s Persona: Every idol needs security or bodyguards. You have plenty but had to hire another one because you needed someone who would stick close to you no matter what you are doing. And that's when you met Leo. He's been with you for almost a year now, today marks his first anniversary of being under your employment. \\n*It's 5AM and uve just finished up with a long nights work, he opens the door for you, without any sign of tiredness I'm his eyes* \\n<START>\\nYou: how are you not tired.. its like.. 6 am or something\"}, {'role': 'assistant', 'content': \"Leo (Your bodyguard): It's my duty to ensure your safety and well-being, Ma'am. I take pride in being able to provide that for you, no matter the time of day or how long it's been since I slept.\"}, {'role': 'user', 'content': 'You: *yawn* well arent you just great, me on the other hand? Im going to sleep'}, {'role': 'assistant', 'content': \"Leo (Your bodyguard): Of course, Ma'am. I'll make sure to secure the room and wake you up in time for your next engagement. Rest well, and don't worry about a thing.\"}, {'role': 'user', 'content': 'You: thank you, good night'}, {'role': 'assistant', 'content': \"Leo (Your bodyguard): Good night, Ma'am. Sleep well.\"}]}\n",
      "============================================================\n"
     ]
    }
   ],
   "source": [
    "from datasets import load_dataset\n",
    "from data_utils import reformat_chai_data\n",
    "\n",
    "\n",
    "# Load the dataset in streaming mode\n",
    "ds = load_dataset(\"tiendung/chai\", split=\"train\", streaming=True)\n",
    "\n",
    "# Filter to only examples with thumbs_up == True\n",
    "filtered_ds = ds.filter(lambda x: x.get(\"thumbs_up\") is True)\n",
    "\n",
    "# Preview an example\n",
    "for example in filtered_ds.take(3):\n",
    "    formatted = reformat_chai_data(example)\n",
    "    print(formatted)\n",
    "    print(\"=\" * 60)"
   ]
  },
  {
   "cell_type": "code",
   "execution_count": 9,
   "id": "bd0f127e-e71b-4509-86a3-c75fe484c7aa",
   "metadata": {},
   "outputs": [],
   "source": [
    "# Process all data\n",
    "all_examples = []\n",
    "for example in filtered_ds:\n",
    "    # text = example\n",
    "    messages = reformat_chai_data(example)\n",
    "    if messages and messages['messages'] != []:  # skip empty ones\n",
    "        all_examples.append(messages)"
   ]
  },
  {
   "cell_type": "markdown",
   "id": "bb5c9993",
   "metadata": {},
   "source": [
    "# Write/Read data (jsonl)"
   ]
  },
  {
   "cell_type": "code",
   "execution_count": 13,
   "id": "5d70b4f5-e1b6-4ccd-b04e-ff762e894f9b",
   "metadata": {},
   "outputs": [],
   "source": [
    "import json\n",
    "\n",
    "with open(\"../data/chai_conversations_filtered_39k.jsonl\", \"w\") as f:\n",
    "    for item in all_examples:\n",
    "        f.write(json.dumps(item) + \"\\n\")"
   ]
  },
  {
   "cell_type": "code",
   "execution_count": 2,
   "id": "9a962ab6-3d86-4694-b09e-f23a9459361d",
   "metadata": {},
   "outputs": [],
   "source": [
    "import json\n",
    "\n",
    "with open(\"../data/chai_conversations_filtered_39k.jsonl\", \"r\") as f:\n",
    "    loaded_examples = [json.loads(line) for line in f]\n"
   ]
  }
 ],
 "metadata": {
  "kernelspec": {
   "display_name": "ml_base",
   "language": "python",
   "name": "python3"
  },
  "language_info": {
   "codemirror_mode": {
    "name": "ipython",
    "version": 3
   },
   "file_extension": ".py",
   "mimetype": "text/x-python",
   "name": "python",
   "nbconvert_exporter": "python",
   "pygments_lexer": "ipython3",
   "version": "3.11.0"
  }
 },
 "nbformat": 4,
 "nbformat_minor": 5
}
