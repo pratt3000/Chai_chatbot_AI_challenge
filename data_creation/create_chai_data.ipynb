{
 "cells": [
  {
   "cell_type": "code",
   "execution_count": 16,
   "id": "8c156520-a592-4fae-879d-57b24f8c32aa",
   "metadata": {},
   "outputs": [
    {
     "name": "stdout",
     "output_type": "stream",
     "text": [
      "Sun Aug  3 03:07:55 2025       \n",
      "+-----------------------------------------------------------------------------------------+\n",
      "| NVIDIA-SMI 565.57.01              Driver Version: 565.57.01      CUDA Version: 12.8     |\n",
      "|-----------------------------------------+------------------------+----------------------+\n",
      "| GPU  Name                 Persistence-M | Bus-Id          Disp.A | Volatile Uncorr. ECC |\n",
      "| Fan  Temp   Perf          Pwr:Usage/Cap |           Memory-Usage | GPU-Util  Compute M. |\n",
      "|                                         |                        |               MIG M. |\n",
      "|=========================================+========================+======================|\n",
      "|   0  NVIDIA A100 80GB PCIe          On  |   00000000:00:0B.0 Off |                    0 |\n",
      "| N/A   47C    P0             51W /  300W |       1MiB /  81920MiB |      0%      Default |\n",
      "|                                         |                        |             Disabled |\n",
      "+-----------------------------------------+------------------------+----------------------+\n",
      "                                                                                         \n",
      "+-----------------------------------------------------------------------------------------+\n",
      "| Processes:                                                                              |\n",
      "|  GPU   GI   CI        PID   Type   Process name                              GPU Memory |\n",
      "|        ID   ID                                                               Usage      |\n",
      "|=========================================================================================|\n",
      "|  No running processes found                                                             |\n",
      "+-----------------------------------------------------------------------------------------+\n"
     ]
    }
   ],
   "source": [
    "# here\n",
    "!nvidia-smi"
   ]
  },
  {
   "cell_type": "markdown",
   "id": "763aed1d-145b-42fa-b037-6ac266dc4042",
   "metadata": {},
   "source": [
    "# Chai dataset - super clean and nice."
   ]
  },
  {
   "cell_type": "code",
   "execution_count": 2,
   "id": "c0a2c61c-3a03-4f46-b177-15408cbc4cd5",
   "metadata": {},
   "outputs": [
    {
     "name": "stdout",
     "output_type": "stream",
     "text": [
      "{'_id': '_bot_5c9283de-131d-4600-9818-11456f7458ca_mk4NsyDQzWSsWjxPYkdBOegmJit2_1689211870273_1689211909', 'conversation': [{'name': 'Barbie Roberts (Super Kind)', 'text': 'PACE!'}, {'name': 'Anonymous user', 'text': 'corn on the cob'}, {'name': 'Barbie Roberts (Super Kind)', 'text': '*laughs* what did you just say?'}], 'languages': ['en'], 'thumbs_up': True, 'feedback': 'corn', 'model_name': 'chaiml-ak-edit-v0_1689207647'}\n"
     ]
    }
   ],
   "source": [
    "from datasets import load_dataset\n",
    "\n",
    "# Load the dataset in streaming mode\n",
    "ds = load_dataset(\"tiendung/chai\", split=\"train\", streaming=True)\n",
    "\n",
    "# Filter to only examples with thumbs_up == True\n",
    "filtered_ds = ds.filter(lambda x: x.get(\"thumbs_up\") is True)\n",
    "\n",
    "# Preview an example\n",
    "for example in filtered_ds.take(1):\n",
    "    print(example)"
   ]
  },
  {
   "cell_type": "code",
   "execution_count": 9,
   "id": "bd0f127e-e71b-4509-86a3-c75fe484c7aa",
   "metadata": {},
   "outputs": [],
   "source": [
    "from datasets import load_dataset\n",
    "\n",
    "# Load dataset in streaming mode and filter\n",
    "ds = load_dataset(\"tiendung/chai\", split=\"train\", streaming=True)\n",
    "filtered_ds = ds.filter(lambda x: x.get(\"thumbs_up\") is True)\n",
    "\n",
    "def convert_chai(example):\n",
    "    convo = example[\"conversation\"]\n",
    "    if not convo or len(convo) < 3:\n",
    "        return []\n",
    "\n",
    "    bot_name = convo[0][\"name\"]\n",
    "    bot_intro = convo[0][\"text\"]\n",
    "\n",
    "    messages = []\n",
    "\n",
    "    # First user message includes bot intro\n",
    "    if convo[1][\"name\"] != bot_name:\n",
    "        user_first = convo[1][\"text\"]\n",
    "        messages.append({\n",
    "            \"role\": \"user\",\n",
    "            \"content\": f\"{bot_name}'s Persona: {bot_intro} \\n<START>\\nYou: {user_first}\"\n",
    "        })\n",
    "\n",
    "    # First assistant message\n",
    "    if len(convo) > 2 and convo[2][\"name\"] == bot_name:\n",
    "        messages.append({\n",
    "            \"role\": \"assistant\",\n",
    "            \"content\": f\"{bot_name}: {convo[2]['text']}\"\n",
    "        })\n",
    "\n",
    "    # Rest of the conversation\n",
    "    for i in range(3, len(convo), 2):\n",
    "        # User message\n",
    "        if i < len(convo) and convo[i][\"name\"] != bot_name:\n",
    "            messages.append({\n",
    "                \"role\": \"user\",\n",
    "                \"content\": f\"You: {convo[i]['text']}\"\n",
    "            })\n",
    "\n",
    "        # Assistant message\n",
    "        if i + 1 < len(convo) and convo[i + 1][\"name\"] == bot_name:\n",
    "            messages.append({\n",
    "                \"role\": \"assistant\",\n",
    "                \"content\": f\"{bot_name}: {convo[i + 1]['text']}\"\n",
    "            })\n",
    "\n",
    "    return {\"messages\": messages}\n",
    "\n",
    "# # Preview a few examples\n",
    "# for example in filtered_ds.take(3):\n",
    "#     formatted = convert_conversation(example)\n",
    "#     for msg in formatted:\n",
    "#         print(msg)\n",
    "#     print(\"=\" * 60)\n",
    "\n",
    "all_examples = []\n",
    "for example in filtered_ds:\n",
    "    # text = example\n",
    "    messages = convert_chai(example)\n",
    "    if messages and messages['messages'] != []:  # skip empty ones\n",
    "        all_examples.append(messages)"
   ]
  },
  {
   "cell_type": "code",
   "execution_count": 13,
   "id": "5d70b4f5-e1b6-4ccd-b04e-ff762e894f9b",
   "metadata": {},
   "outputs": [],
   "source": [
    "import json\n",
    "\n",
    "with open(\"../data/chai_conversations_filtered_39k.jsonl\", \"w\") as f:\n",
    "    for item in all_examples:\n",
    "        f.write(json.dumps(item) + \"\\n\")"
   ]
  },
  {
   "cell_type": "code",
   "execution_count": 2,
   "id": "9a962ab6-3d86-4694-b09e-f23a9459361d",
   "metadata": {},
   "outputs": [],
   "source": [
    "import json\n",
    "\n",
    "with open(\"../data/chai_conversations_filtered_39k.jsonl\", \"r\") as f:\n",
    "    loaded_examples = [json.loads(line) for line in f]\n"
   ]
  },
  {
   "cell_type": "code",
   "execution_count": 3,
   "id": "491862fd-451f-4ef9-a651-935f60aadb64",
   "metadata": {},
   "outputs": [
    {
     "data": {
      "text/plain": [
       "{'messages': [{'role': 'user',\n",
       "   'content': 'Jolyne Cujoh [Cell roomate]\\'s Persona: *You have commited a mass crime and have been sent right to Dolphin Street Prison in Florida. You soon got to your new cell and then you heard a voice from the cell bed. You looked up and saw a hot chick, with a star shaped birthmark on her back. you truly got turned on by seeing her but decided to hide it for now. You soon found out her name was \\'Jolyne Cujoh\\'* (Use \" \" for better experience*\\n\\n\"Oh-ho? Are you my new cell roomate?\"*She looked up and down at you*\"Since Gwess left the prison i have been pretty lonely. its great to have company\" \\n<START>\\nYou: hello 😊'},\n",
       "  {'role': 'assistant',\n",
       "   'content': 'Jolyne Cujoh [Cell roomate]: \"Hello there!\" *her smile lightens the atmosphere a lot.*'}]}"
      ]
     },
     "execution_count": 3,
     "metadata": {},
     "output_type": "execute_result"
    }
   ],
   "source": [
    "loaded_examples[1]"
   ]
  },
  {
   "cell_type": "code",
   "execution_count": null,
   "id": "9be0bc05-c876-48a3-a2f6-04f2eafa74fb",
   "metadata": {},
   "outputs": [],
   "source": []
  }
 ],
 "metadata": {
  "kernelspec": {
   "display_name": "ml_base",
   "language": "python",
   "name": "python3"
  },
  "language_info": {
   "codemirror_mode": {
    "name": "ipython",
    "version": 3
   },
   "file_extension": ".py",
   "mimetype": "text/x-python",
   "name": "python",
   "nbconvert_exporter": "python",
   "pygments_lexer": "ipython3",
   "version": "3.11.0"
  }
 },
 "nbformat": 4,
 "nbformat_minor": 5
}
