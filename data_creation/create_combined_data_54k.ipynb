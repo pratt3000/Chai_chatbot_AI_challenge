{
 "cells": [
  {
   "cell_type": "code",
   "execution_count": 1,
   "metadata": {},
   "outputs": [],
   "source": [
    "import json\n",
    "\n",
    "with open(\"../data/chai_conversations_filtered_39k.jsonl\", \"r\") as f:\n",
    "    chai_conversations_filtered_39k = [json.loads(line) for line in f]\n",
    "\n",
    "\n",
    "with open(\"../data/roleplay_15k.jsonl\", \"r\") as f:\n",
    "    roleplay_15k = [json.loads(line) for line in f]"
   ]
  },
  {
   "cell_type": "code",
   "execution_count": 2,
   "metadata": {},
   "outputs": [],
   "source": [
    "combined = chai_conversations_filtered_39k + roleplay_15k\n",
    "\n",
    "with open(\"../data/combined_data_dirty.jsonl\", \"w\") as f:\n",
    "    for item in combined:\n",
    "        f.write(json.dumps(item) + \"\\n\")"
   ]
  },
  {
   "cell_type": "code",
   "execution_count": null,
   "metadata": {},
   "outputs": [],
   "source": []
  }
 ],
 "metadata": {
  "kernelspec": {
   "display_name": "ml_base",
   "language": "python",
   "name": "python3"
  },
  "language_info": {
   "codemirror_mode": {
    "name": "ipython",
    "version": 3
   },
   "file_extension": ".py",
   "mimetype": "text/x-python",
   "name": "python",
   "nbconvert_exporter": "python",
   "pygments_lexer": "ipython3",
   "version": "3.11.0"
  }
 },
 "nbformat": 4,
 "nbformat_minor": 2
}
